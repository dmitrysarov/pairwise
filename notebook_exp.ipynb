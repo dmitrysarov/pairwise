{
 "cells": [
  {
   "cell_type": "code",
   "execution_count": 5,
   "metadata": {},
   "outputs": [],
   "source": [
    "import numpy as np\n",
    "from itertools import combinations\n",
    "import matplotlib.pyplot as plt\n",
    "from scipy import sparse"
   ]
  },
  {
   "cell_type": "markdown",
   "metadata": {},
   "source": [
    "the idea is to rank samples by means of <li> pair wise comparison <li> use EM algorithm to transfere pairwise comparisons to absolute value rank. Bradley-Terry model"
   ]
  },
  {
   "cell_type": "markdown",
   "metadata": {},
   "source": [
    "Pair samples could be samples in <b>dense</b> manner (number of samples equal to number of combinations) or <b>sparse</b> (stochastically sample indexes considere it's prob weights)"
   ]
  },
  {
   "cell_type": "markdown",
   "metadata": {},
   "source": [
    "### Sampling type study"
   ]
  },
  {
   "cell_type": "markdown",
   "metadata": {},
   "source": [
    "#### Dense"
   ]
  },
  {
   "cell_type": "code",
   "execution_count": 19,
   "metadata": {},
   "outputs": [
    {
     "name": "stdout",
     "output_type": "stream",
     "text": [
      "9 comparisons were done\n",
      "Each object encountering [4. 4. 4. 4. 4.]\n"
     ]
    },
    {
     "name": "stderr",
     "output_type": "stream",
     "text": [
      "/opt/conda/lib/python3.6/site-packages/matplotlib/cbook/__init__.py:424: MatplotlibDeprecationWarning: \n",
      "Passing one of 'on', 'true', 'off', 'false' as a boolean is deprecated; use an actual boolean (True/False) instead.\n",
      "  warn_deprecated(\"2.2\", \"Passing one of 'on', 'true', 'off', 'false' as a \"\n"
     ]
    },
    {
     "data": {
      "image/png": "[encoded data removed]",
      "text/plain": [
       "<Figure size 432x288 with 1 Axes>"
      ]
     },
     "metadata": {
      "needs_background": "light"
     },
     "output_type": "display_data"
    }
   ],
   "source": [
    "comparisons = np.zeros((5, 5))\n",
    "for num, (i, j) in enumerate(combinations(range(len(comparisons)), 2)):\n",
    "    v = np.random.randint(0, 2)\n",
    "    if v:\n",
    "        comparisons[i, j] = 1\n",
    "    else:\n",
    "        comparisons[j, i] = 1\n",
    "print('{} comparisons were done'.format(num))\n",
    "freq = comparisons.sum(0) + comparisons.sum(1)\n",
    "print('Each object encountering', freq)\n",
    "plt.imshow(comparisons)\n",
    "plt.grid('on')"
   ]
  },
  {
   "cell_type": "markdown",
   "metadata": {},
   "source": [
    "#### Sparse"
   ]
  },
  {
   "cell_type": "code",
   "execution_count": 21,
   "metadata": {},
   "outputs": [],
   "source": [
    "def sample_pair(comparisons):\n",
    "    '''\n",
    "    stochastic solution of sample task\n",
    "    heuristic is that number of samples should be larger then object numbers by 1 or more  \n",
    "    '''\n",
    "    elem_freq = np.abs(np.sum(np.abs(comparisons), 1) - np.sum(np.abs(comparisons), 0)) + 1\n",
    "    weights = 1/elem_freq\n",
    "    weights = weights/np.sum(weights)\n",
    "    indx1, indx2 = np.random.choice(list(range(len(comparisons))), size=2, replace=False, p=weights)\n",
    "    return indx1, indx2"
   ]
  },
  {
   "cell_type": "code",
   "execution_count": 22,
   "metadata": {},
   "outputs": [
    {
     "name": "stdout",
     "output_type": "stream",
     "text": [
      "Each object encountering [1. 3. 4. 1. 3.]\n"
     ]
    },
    {
     "data": {
      "image/png": "[encoded data removed]",
      "text/plain": [
       "<Figure size 432x288 with 1 Axes>"
      ]
     },
     "metadata": {
      "needs_background": "light"
     },
     "output_type": "display_data"
    }
   ],
   "source": [
    "comparisons = np.zeros((5, 5))\n",
    "for _ in range(6): # 6 euristicaly obtained value\n",
    "    i, j = sample_pair(comparisons)\n",
    "    v = np.random.randint(0, 2)\n",
    "    if v:\n",
    "        comparisons[i, j] += 1\n",
    "    else:\n",
    "        comparisons[j, i] += 1\n",
    "freq = comparisons.sum(0) + comparisons.sum(1)\n",
    "print('Each object encountering', freq)\n",
    "plt.imshow(comparisons)\n",
    "plt.grid('on')"
   ]
  },
  {
   "cell_type": "markdown",
   "metadata": {},
   "source": [
    "#### chech objects connectivity"
   ]
  },
  {
   "cell_type": "code",
   "execution_count": 148,
   "metadata": {},
   "outputs": [],
   "source": [
    "def check_connectivity(comparisons):\n",
    "    '''\n",
    "    check whether objects connected in comperison chain. Aka graph is connected\n",
    "    '''\n",
    "    num_objects = len(comparisons)\n",
    "    gr1 = {}; gr2 = {}; #direct and reverse graphs\n",
    "    def Add_edge(u, v) :\n",
    "        if u not in gr1 : \n",
    "            gr1[u] = []; \n",
    "        if v not in gr2 : \n",
    "            gr2[v] = [];       \n",
    "        gr1[u].append(v); \n",
    "        gr2[v].append(u); \n",
    "    vis1 = [False]*num_objects #visited edges\n",
    "    vis2 = [False]*num_objects\n",
    "    def dfs1(x): #depth first search direct\n",
    "        vis1[x] = True  \n",
    "        if x not in gr1: \n",
    "            gr1[x] = {} \n",
    "        for i in gr1[x]:  \n",
    "            if (not vis1[i]): \n",
    "                dfs1(i)  \n",
    "    def dfs2(x): #depth first search reverse\n",
    "        vis2[x] = True  \n",
    "        if x not in gr2: \n",
    "            gr2[x] = {} \n",
    "        for i in gr2[x]:  \n",
    "            if (not vis2[i]): \n",
    "                dfs2(i)\n",
    "    # create graph\n",
    "    edges = list(zip(*sparse.find(comparisons)[:-1]))\n",
    "    for edge in edges:\n",
    "        Add_edge(*edge) #add nodes and edges to gr1 (direct) and gr2 (reversed) \n",
    "    dfs1(0); # search in direct way\n",
    "    dfs2(0); # search in reverse way\n",
    "#     import ipdb; ipdb.set_trace()\n",
    "    for i in range(num_objects) : \n",
    "        # If any vertex it not visited in any direction \n",
    "        # Then graph is not connected \n",
    "        if (not vis1[i] and not vis2[i]) : \n",
    "            return False; \n",
    "    # If graph is connected \n",
    "    return True; \n",
    "    \n",
    "    "
   ]
  },
  {
   "cell_type": "markdown",
   "metadata": {},
   "source": [
    "#### find best additive (study euristic)"
   ]
  },
  {
   "cell_type": "code",
   "execution_count": 139,
   "metadata": {},
   "outputs": [],
   "source": [
    "dim_comperison_range = (5, 20) # range of number of objects \n",
    "additive_range = (1,10) # how much above number of object should we compare\n",
    "num_exp = 20\n",
    "point = []\n",
    "\n",
    "for i_ in range(*dim_comperison_range):\n",
    "    for j_ in range(*additive_range):\n",
    "        dim_comperison = i_\n",
    "        additive = j_\n",
    "        frac_connected = []\n",
    "        for _ in range(num_exp):\n",
    "            comparisons = np.zeros((dim_comperison, dim_comperison))\n",
    "            for _ in range(dim_comperison+additive): # 6 euristicaly obtained value. \n",
    "                i, j = sample_pair(comparisons)\n",
    "                v = np.random.randint(0, 2) # this is not valid actually, because decision is random\n",
    "                if v:\n",
    "                    comparisons[i, j] += 1\n",
    "                else:\n",
    "                    comparisons[j, i] += 1\n",
    "            is_connected = check_connectivity(comparisons)\n",
    "            frac_connected.append(is_connected)\n",
    "        frac_connected = sum(frac_connected)/num_exp\n",
    "        point.append((dim_comperison, additive, frac_connected))"
   ]
  },
  {
   "cell_type": "code",
   "execution_count": 140,
   "metadata": {},
   "outputs": [],
   "source": [
    "point = np.reshape([v for i, j, v in point], \n",
    "                   (dim_comperison_range[1]-dim_comperison_range[0], additive_range[1] - additive_range[0]))"
   ]
  },
  {
   "cell_type": "code",
   "execution_count": 141,
   "metadata": {},
   "outputs": [
    {
     "data": {
      "text/plain": [
       "<matplotlib.colorbar.Colorbar at 0x7f3478071da0>"
      ]
     },
     "execution_count": 141,
     "metadata": {},
     "output_type": "execute_result"
    },
    {
     "data": {
      "image/png": "[encoded data removed]",
      "text/plain": [
       "<Figure size 720x720 with 2 Axes>"
      ]
     },
     "metadata": {
      "needs_background": "light"
     },
     "output_type": "display_data"
    }
   ],
   "source": [
    "_ = plt.figure(figsize=(10,10))\n",
    "plt.matshow(point, extent=[additive_range[0],additive_range[1],dim_comperison_range[1],dim_comperison_range[0]], fignum=1)\n",
    "plt.xlabel('additive comparison number')\n",
    "plt.ylabel('number of objects')\n",
    "plt.title('prob of connection of comparisons')\n",
    "plt.xticks()\n",
    "plt.colorbar()"
   ]
  },
  {
   "cell_type": "markdown",
   "metadata": {},
   "source": [
    "Could be seen that a number of additive comparisons should be quite large. But the reason may be is random nature of comparison decision making"
   ]
  },
  {
   "cell_type": "markdown",
   "metadata": {},
   "source": [
    "#### find best additive (study euristic)"
   ]
  },
  {
   "cell_type": "code",
   "execution_count": 149,
   "metadata": {},
   "outputs": [
    {
     "data": {
      "text/plain": [
       "<matplotlib.colorbar.Colorbar at 0x7f3477e8a7b8>"
      ]
     },
     "execution_count": 149,
     "metadata": {},
     "output_type": "execute_result"
    },
    {
     "data": {
      "image/png": "[encoded data removed]",
      "text/plain": [
       "<Figure size 720x720 with 2 Axes>"
      ]
     },
     "metadata": {
      "needs_background": "light"
     },
     "output_type": "display_data"
    }
   ],
   "source": [
    "dim_comperison_range = (5, 20) # range of number of objects \n",
    "additive_range = (1,10) # how much above number of object should we compare\n",
    "num_exp = 20\n",
    "point = []\n",
    "\n",
    "for i_ in range(*dim_comperison_range):\n",
    "    for j_ in range(*additive_range):\n",
    "        dim_comperison = i_\n",
    "        additive = j_\n",
    "        frac_connected = []\n",
    "        for _ in range(num_exp):\n",
    "            comparisons = np.zeros((dim_comperison, dim_comperison))\n",
    "            for _ in range(dim_comperison+additive): # 6 euristicaly obtained value. \n",
    "                i, j = sample_pair(comparisons)\n",
    "                if i>=j:\n",
    "                    comparisons[i, j] += 1\n",
    "                else:\n",
    "                    comparisons[j, i] += 1\n",
    "            is_connected = check_connectivity(comparisons)\n",
    "            frac_connected.append(is_connected)\n",
    "        frac_connected = sum(frac_connected)/num_exp\n",
    "        point.append((dim_comperison, additive, frac_connected))\n",
    "\n",
    "point = np.reshape([v for i, j, v in point], \n",
    "                   (dim_comperison_range[1]-dim_comperison_range[0], additive_range[1] - additive_range[0]))\n",
    "\n",
    "_ = plt.figure(figsize=(10,10))\n",
    "plt.matshow(point, extent=[additive_range[0],additive_range[1],dim_comperison_range[1],dim_comperison_range[0]], fignum=1)\n",
    "plt.xlabel('additive comparison number')\n",
    "plt.ylabel('number of objects')\n",
    "plt.title('prob of connection of comparisons')\n",
    "plt.xticks()\n",
    "plt.colorbar()"
   ]
  },
  {
   "cell_type": "markdown",
   "metadata": {},
   "source": [
    "version did not find success"
   ]
  },
  {
   "cell_type": "markdown",
   "metadata": {},
   "source": [
    "## Class definition"
   ]
  },
  {
   "cell_type": "code",
   "execution_count": 6,
   "metadata": {},
   "outputs": [],
   "source": [
    "from pairwise import Pair_comp"
   ]
  },
  {
   "cell_type": "markdown",
   "metadata": {},
   "source": [
    "### Experiment"
   ]
  },
  {
   "cell_type": "markdown",
   "metadata": {},
   "source": [
    "##### test on digits"
   ]
  },
  {
   "cell_type": "markdown",
   "metadata": {},
   "source": [
    "as input object ones selected simple intagers - 0, 1, 2 "
   ]
  },
  {
   "cell_type": "code",
   "execution_count": 3,
   "metadata": {},
   "outputs": [
    {
     "name": "stdout",
     "output_type": "stream",
     "text": [
      "object 1: [0]; object 2: [1]\n",
      "Compare objects (-1: object 1 win; 0: draw; 1: object 2 win)1\n",
      "object 1: [0]; object 2: [2]\n",
      "Compare objects (-1: object 1 win; 0: draw; 1: object 2 win)1\n",
      "object 1: [1]; object 2: [2]\n",
      "Compare objects (-1: object 1 win; 0: draw; 1: object 2 win)1\n"
     ]
    }
   ],
   "source": [
    "a = Pair_comp(np.arange(0, 3)[..., np.newaxis])\n",
    "a.compare_samples()"
   ]
  },
  {
   "cell_type": "markdown",
   "metadata": {},
   "source": [
    "decisions were random"
   ]
  },
  {
   "cell_type": "markdown",
   "metadata": {},
   "source": [
    "let's check objects"
   ]
  },
  {
   "cell_type": "code",
   "execution_count": 4,
   "metadata": {},
   "outputs": [
    {
     "name": "stdout",
     "output_type": "stream",
     "text": [
      "Object 0: [0] \n",
      " Score 1.0000\n",
      "Object 1: [1] \n",
      " Score 1.0000\n",
      "Object 2: [2] \n",
      " Score 1.0000\n"
     ]
    }
   ],
   "source": [
    "a.show_objects()"
   ]
  },
  {
   "cell_type": "markdown",
   "metadata": {},
   "source": [
    "fit model"
   ]
  },
  {
   "cell_type": "code",
   "execution_count": 5,
   "metadata": {},
   "outputs": [],
   "source": [
    "a.fit_bt()"
   ]
  },
  {
   "cell_type": "markdown",
   "metadata": {},
   "source": [
    "what scires we got"
   ]
  },
  {
   "cell_type": "code",
   "execution_count": 6,
   "metadata": {},
   "outputs": [
    {
     "name": "stdout",
     "output_type": "stream",
     "text": [
      "Object 0: [0] \n",
      " Score 0.0000\n",
      "Object 1: [1] \n",
      " Score 0.0001\n",
      "Object 2: [2] \n",
      " Score 0.9999\n"
     ]
    }
   ],
   "source": [
    "a.show_objects()"
   ]
  },
  {
   "cell_type": "markdown",
   "metadata": {},
   "source": [
    "add new object"
   ]
  },
  {
   "cell_type": "code",
   "execution_count": 7,
   "metadata": {},
   "outputs": [
    {
     "name": "stdout",
     "output_type": "stream",
     "text": [
      "object 1: [3]; object 2: [2]\n",
      "Compare objects (-1: object 1 win; 0: draw; 1: object 2 win)0\n"
     ]
    }
   ],
   "source": [
    "a.add_object(np.array([3]))"
   ]
  },
  {
   "cell_type": "markdown",
   "metadata": {},
   "source": [
    "fit model with new object"
   ]
  },
  {
   "cell_type": "code",
   "execution_count": 8,
   "metadata": {},
   "outputs": [],
   "source": [
    "a.fit_bt()"
   ]
  },
  {
   "cell_type": "code",
   "execution_count": 9,
   "metadata": {},
   "outputs": [
    {
     "data": {
      "text/plain": [
       "[<matplotlib.lines.Line2D at 0x11d249278>]"
      ]
     },
     "execution_count": 9,
     "metadata": {},
     "output_type": "execute_result"
    },
    {
     "data": {
      "image/png": "[encoded data removed]",
      "text/plain": [
       "<Figure size 432x288 with 1 Axes>"
      ]
     },
     "metadata": {
      "needs_background": "light"
     },
     "output_type": "display_data"
    }
   ],
   "source": [
    "plt.plot(a.ll_log)"
   ]
  },
  {
   "cell_type": "markdown",
   "metadata": {},
   "source": [
    "how comparison matrix now looks"
   ]
  },
  {
   "cell_type": "code",
   "execution_count": 10,
   "metadata": {},
   "outputs": [
    {
     "data": {
      "text/plain": [
       "array([[0., 0., 0., 0.],\n",
       "       [1., 0., 0., 0.],\n",
       "       [1., 1., 0., 1.],\n",
       "       [0., 0., 1., 0.]])"
      ]
     },
     "execution_count": 10,
     "metadata": {},
     "output_type": "execute_result"
    }
   ],
   "source": [
    "a.comp_matrix"
   ]
  },
  {
   "cell_type": "markdown",
   "metadata": {},
   "source": [
    "And finally how scores looks now"
   ]
  },
  {
   "cell_type": "code",
   "execution_count": 11,
   "metadata": {},
   "outputs": [
    {
     "name": "stdout",
     "output_type": "stream",
     "text": [
      "Object 0: [0] \n",
      " Score 0.0000\n",
      "Object 1: [1] \n",
      " Score 0.0127\n",
      "Object 2: [2] \n",
      " Score 0.2736\n",
      "Object 3: [3] \n",
      " Score 0.7137\n"
     ]
    }
   ],
   "source": [
    "a.show_objects()"
   ]
  },
  {
   "cell_type": "markdown",
   "metadata": {},
   "source": [
    "##### test on images"
   ]
  },
  {
   "cell_type": "code",
   "execution_count": 7,
   "metadata": {},
   "outputs": [],
   "source": [
    "images = np.zeros((4,64,64))\n",
    "num = 0\n",
    "for i in range(2):\n",
    "    for j in range(2):\n",
    "        images[num, 32*i:32*(i+1), 32*j:32*(j+1)] = 1\n",
    "        num += 1"
   ]
  },
  {
   "cell_type": "code",
   "execution_count": 8,
   "metadata": {},
   "outputs": [
    {
     "data": {
      "image/png": "[encoded data removed]",
      "text/plain": [
       "<Figure size 432x288 with 4 Axes>"
      ]
     },
     "metadata": {
      "needs_background": "light"
     },
     "output_type": "display_data"
    }
   ],
   "source": [
    "_, ax = plt.subplots(2,2)\n",
    "ax = ax.flatten()\n",
    "for i in range(4):\n",
    "    ax[i].imshow(images[i])\n",
    "plt.show()"
   ]
  },
  {
   "cell_type": "code",
   "execution_count": 4,
   "metadata": {},
   "outputs": [],
   "source": [
    "from pairwise import Pair_comp"
   ]
  },
  {
   "cell_type": "code",
   "execution_count": 5,
   "metadata": {},
   "outputs": [
    {
     "ename": "NameError",
     "evalue": "name 'images' is not defined",
     "output_type": "error",
     "traceback": [
      "\u001b[0;31m---------------------------------------------------------------------------\u001b[0m",
      "\u001b[0;31mNameError\u001b[0m                                 Traceback (most recent call last)",
      "\u001b[0;32m<ipython-input-5-e274240c416a>\u001b[0m in \u001b[0;36m<module>\u001b[0;34m\u001b[0m\n\u001b[0;32m----> 1\u001b[0;31m \u001b[0ma\u001b[0m \u001b[0;34m=\u001b[0m \u001b[0mPair_comp\u001b[0m\u001b[0;34m(\u001b[0m\u001b[0mimages\u001b[0m\u001b[0;34m[\u001b[0m\u001b[0;34m:\u001b[0m\u001b[0;34m-\u001b[0m\u001b[0;36m1\u001b[0m\u001b[0;34m]\u001b[0m\u001b[0;34m)\u001b[0m\u001b[0;34m\u001b[0m\u001b[0;34m\u001b[0m\u001b[0m\n\u001b[0m",
      "\u001b[0;31mNameError\u001b[0m: name 'images' is not defined"
     ]
    }
   ],
   "source": [
    "a = Pair_comp(images[:-1])"
   ]
  },
  {
   "cell_type": "code",
   "execution_count": 6,
   "metadata": {},
   "outputs": [
    {
     "ename": "NameError",
     "evalue": "name 'a' is not defined",
     "output_type": "error",
     "traceback": [
      "\u001b[0;31m---------------------------------------------------------------------------\u001b[0m",
      "\u001b[0;31mNameError\u001b[0m                                 Traceback (most recent call last)",
      "\u001b[0;32m<ipython-input-6-5591d60d965d>\u001b[0m in \u001b[0;36m<module>\u001b[0;34m\u001b[0m\n\u001b[0;32m----> 1\u001b[0;31m \u001b[0ma\u001b[0m\u001b[0;34m.\u001b[0m\u001b[0mcompare_samples\u001b[0m\u001b[0;34m(\u001b[0m\u001b[0;34m)\u001b[0m\u001b[0;34m\u001b[0m\u001b[0;34m\u001b[0m\u001b[0m\n\u001b[0m",
      "\u001b[0;31mNameError\u001b[0m: name 'a' is not defined"
     ]
    }
   ],
   "source": [
    "a.compare_samples()"
   ]
  },
  {
   "cell_type": "markdown",
   "metadata": {},
   "source": [
    "decisions were random"
   ]
  },
  {
   "cell_type": "markdown",
   "metadata": {},
   "source": [
    "let's check objects"
   ]
  },
  {
   "cell_type": "code",
   "execution_count": 7,
   "metadata": {},
   "outputs": [],
   "source": [
    "a.fit_bt()"
   ]
  },
  {
   "cell_type": "code",
   "execution_count": 8,
   "metadata": {},
   "outputs": [
    {
     "data": {
      "image/png": "[encoded data removed]",
      "text/plain": [
       "<Figure size 432x288 with 3 Axes>"
      ]
     },
     "metadata": {
      "needs_background": "light"
     },
     "output_type": "display_data"
    }
   ],
   "source": [
    "a.show_objects()"
   ]
  },
  {
   "cell_type": "markdown",
   "metadata": {},
   "source": [
    "fit model"
   ]
  },
  {
   "cell_type": "markdown",
   "metadata": {},
   "source": [
    "add new object"
   ]
  },
  {
   "cell_type": "code",
   "execution_count": 9,
   "metadata": {},
   "outputs": [
    {
     "data": {
      "image/png": "[encoded data removed]",
      "text/plain": [
       "<Figure size 360x360 with 2 Axes>"
      ]
     },
     "metadata": {
      "needs_background": "light"
     },
     "output_type": "display_data"
    },
    {
     "name": "stdout",
     "output_type": "stream",
     "text": [
      "Compare objects (-1: object 1 win; 0: draw; 1: object 2 win)0\n"
     ]
    }
   ],
   "source": [
    "a.add_object(images[-1])"
   ]
  },
  {
   "cell_type": "markdown",
   "metadata": {},
   "source": [
    "fit model with new object"
   ]
  },
  {
   "cell_type": "code",
   "execution_count": 10,
   "metadata": {},
   "outputs": [],
   "source": [
    "a.fit_bt()"
   ]
  },
  {
   "cell_type": "markdown",
   "metadata": {},
   "source": [
    "how comparison matrix now looks"
   ]
  },
  {
   "cell_type": "code",
   "execution_count": 2,
   "metadata": {},
   "outputs": [
    {
     "ename": "NameError",
     "evalue": "name 'a' is not defined",
     "output_type": "error",
     "traceback": [
      "\u001b[0;31m---------------------------------------------------------------------------\u001b[0m",
      "\u001b[0;31mNameError\u001b[0m                                 Traceback (most recent call last)",
      "\u001b[0;32m<ipython-input-2-51e6b73dc3d0>\u001b[0m in \u001b[0;36m<module>\u001b[0;34m\u001b[0m\n\u001b[0;32m----> 1\u001b[0;31m \u001b[0ma\u001b[0m\u001b[0;34m.\u001b[0m\u001b[0mcomp_matrix\u001b[0m\u001b[0;34m\u001b[0m\u001b[0;34m\u001b[0m\u001b[0m\n\u001b[0m",
      "\u001b[0;31mNameError\u001b[0m: name 'a' is not defined"
     ]
    }
   ],
   "source": [
    "a.comp_matrix"
   ]
  },
  {
   "cell_type": "markdown",
   "metadata": {},
   "source": [
    "And finally how scores looks now"
   ]
  },
  {
   "cell_type": "code",
   "execution_count": 3,
   "metadata": {},
   "outputs": [
    {
     "ename": "NameError",
     "evalue": "name 'a' is not defined",
     "output_type": "error",
     "traceback": [
      "\u001b[0;31m---------------------------------------------------------------------------\u001b[0m",
      "\u001b[0;31mNameError\u001b[0m                                 Traceback (most recent call last)",
      "\u001b[0;32m<ipython-input-3-747725e40d0a>\u001b[0m in \u001b[0;36m<module>\u001b[0;34m\u001b[0m\n\u001b[0;32m----> 1\u001b[0;31m \u001b[0ma\u001b[0m\u001b[0;34m.\u001b[0m\u001b[0mshow_objects\u001b[0m\u001b[0;34m(\u001b[0m\u001b[0;34m)\u001b[0m\u001b[0;34m\u001b[0m\u001b[0;34m\u001b[0m\u001b[0m\n\u001b[0m",
      "\u001b[0;31mNameError\u001b[0m: name 'a' is not defined"
     ]
    }
   ],
   "source": [
    "a.show_objects()"
   ]
  },
  {
   "cell_type": "markdown",
   "metadata": {},
   "source": [
    "decisions were random"
   ]
  }
 ],
 "metadata": {
  "kernelspec": {
   "display_name": "Python 3",
   "language": "python",
   "name": "python3"
  },
  "language_info": {
   "codemirror_mode": {
    "name": "ipython",
    "version": 3
   },
   "file_extension": ".py",
   "mimetype": "text/x-python",
   "name": "python",
   "nbconvert_exporter": "python",
   "pygments_lexer": "ipython3",
   "version": "3.7.3"
  }
 },
 "nbformat": 4,
 "nbformat_minor": 2
}
